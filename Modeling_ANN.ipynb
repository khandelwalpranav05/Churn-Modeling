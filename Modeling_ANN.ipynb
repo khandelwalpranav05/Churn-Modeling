{
 "cells": [
  {
   "cell_type": "code",
   "execution_count": 2,
   "metadata": {},
   "outputs": [],
   "source": [
    "import numpy as np\n",
    "import pandas as pd\n",
    "import matplotlib.pyplot as plt"
   ]
  },
  {
   "cell_type": "code",
   "execution_count": 3,
   "metadata": {},
   "outputs": [],
   "source": [
    "df = pd.read_csv('Churn_Modelling.csv')"
   ]
  },
  {
   "cell_type": "markdown",
   "metadata": {},
   "source": [
    "### Data Preprocessing "
   ]
  },
  {
   "cell_type": "code",
   "execution_count": 4,
   "metadata": {},
   "outputs": [
    {
     "data": {
      "text/html": [
       "<div>\n",
       "<style scoped>\n",
       "    .dataframe tbody tr th:only-of-type {\n",
       "        vertical-align: middle;\n",
       "    }\n",
       "\n",
       "    .dataframe tbody tr th {\n",
       "        vertical-align: top;\n",
       "    }\n",
       "\n",
       "    .dataframe thead th {\n",
       "        text-align: right;\n",
       "    }\n",
       "</style>\n",
       "<table border=\"1\" class=\"dataframe\">\n",
       "  <thead>\n",
       "    <tr style=\"text-align: right;\">\n",
       "      <th></th>\n",
       "      <th>RowNumber</th>\n",
       "      <th>CustomerId</th>\n",
       "      <th>Surname</th>\n",
       "      <th>CreditScore</th>\n",
       "      <th>Geography</th>\n",
       "      <th>Gender</th>\n",
       "      <th>Age</th>\n",
       "      <th>Tenure</th>\n",
       "      <th>Balance</th>\n",
       "      <th>NumOfProducts</th>\n",
       "      <th>HasCrCard</th>\n",
       "      <th>IsActiveMember</th>\n",
       "      <th>EstimatedSalary</th>\n",
       "      <th>Exited</th>\n",
       "    </tr>\n",
       "  </thead>\n",
       "  <tbody>\n",
       "    <tr>\n",
       "      <th>0</th>\n",
       "      <td>1</td>\n",
       "      <td>15634602</td>\n",
       "      <td>Hargrave</td>\n",
       "      <td>619</td>\n",
       "      <td>France</td>\n",
       "      <td>Female</td>\n",
       "      <td>42</td>\n",
       "      <td>2</td>\n",
       "      <td>0.00</td>\n",
       "      <td>1</td>\n",
       "      <td>1</td>\n",
       "      <td>1</td>\n",
       "      <td>101348.88</td>\n",
       "      <td>1</td>\n",
       "    </tr>\n",
       "    <tr>\n",
       "      <th>1</th>\n",
       "      <td>2</td>\n",
       "      <td>15647311</td>\n",
       "      <td>Hill</td>\n",
       "      <td>608</td>\n",
       "      <td>Spain</td>\n",
       "      <td>Female</td>\n",
       "      <td>41</td>\n",
       "      <td>1</td>\n",
       "      <td>83807.86</td>\n",
       "      <td>1</td>\n",
       "      <td>0</td>\n",
       "      <td>1</td>\n",
       "      <td>112542.58</td>\n",
       "      <td>0</td>\n",
       "    </tr>\n",
       "    <tr>\n",
       "      <th>2</th>\n",
       "      <td>3</td>\n",
       "      <td>15619304</td>\n",
       "      <td>Onio</td>\n",
       "      <td>502</td>\n",
       "      <td>France</td>\n",
       "      <td>Female</td>\n",
       "      <td>42</td>\n",
       "      <td>8</td>\n",
       "      <td>159660.80</td>\n",
       "      <td>3</td>\n",
       "      <td>1</td>\n",
       "      <td>0</td>\n",
       "      <td>113931.57</td>\n",
       "      <td>1</td>\n",
       "    </tr>\n",
       "    <tr>\n",
       "      <th>3</th>\n",
       "      <td>4</td>\n",
       "      <td>15701354</td>\n",
       "      <td>Boni</td>\n",
       "      <td>699</td>\n",
       "      <td>France</td>\n",
       "      <td>Female</td>\n",
       "      <td>39</td>\n",
       "      <td>1</td>\n",
       "      <td>0.00</td>\n",
       "      <td>2</td>\n",
       "      <td>0</td>\n",
       "      <td>0</td>\n",
       "      <td>93826.63</td>\n",
       "      <td>0</td>\n",
       "    </tr>\n",
       "    <tr>\n",
       "      <th>4</th>\n",
       "      <td>5</td>\n",
       "      <td>15737888</td>\n",
       "      <td>Mitchell</td>\n",
       "      <td>850</td>\n",
       "      <td>Spain</td>\n",
       "      <td>Female</td>\n",
       "      <td>43</td>\n",
       "      <td>2</td>\n",
       "      <td>125510.82</td>\n",
       "      <td>1</td>\n",
       "      <td>1</td>\n",
       "      <td>1</td>\n",
       "      <td>79084.10</td>\n",
       "      <td>0</td>\n",
       "    </tr>\n",
       "  </tbody>\n",
       "</table>\n",
       "</div>"
      ],
      "text/plain": [
       "   RowNumber  CustomerId   Surname  CreditScore Geography  Gender  Age  \\\n",
       "0          1    15634602  Hargrave          619    France  Female   42   \n",
       "1          2    15647311      Hill          608     Spain  Female   41   \n",
       "2          3    15619304      Onio          502    France  Female   42   \n",
       "3          4    15701354      Boni          699    France  Female   39   \n",
       "4          5    15737888  Mitchell          850     Spain  Female   43   \n",
       "\n",
       "   Tenure    Balance  NumOfProducts  HasCrCard  IsActiveMember  \\\n",
       "0       2       0.00              1          1               1   \n",
       "1       1   83807.86              1          0               1   \n",
       "2       8  159660.80              3          1               0   \n",
       "3       1       0.00              2          0               0   \n",
       "4       2  125510.82              1          1               1   \n",
       "\n",
       "   EstimatedSalary  Exited  \n",
       "0        101348.88       1  \n",
       "1        112542.58       0  \n",
       "2        113931.57       1  \n",
       "3         93826.63       0  \n",
       "4         79084.10       0  "
      ]
     },
     "execution_count": 4,
     "metadata": {},
     "output_type": "execute_result"
    }
   ],
   "source": [
    "df.head()"
   ]
  },
  {
   "cell_type": "code",
   "execution_count": 5,
   "metadata": {},
   "outputs": [],
   "source": [
    "df=df.iloc[:,3:]"
   ]
  },
  {
   "cell_type": "code",
   "execution_count": 6,
   "metadata": {},
   "outputs": [
    {
     "data": {
      "text/html": [
       "<div>\n",
       "<style scoped>\n",
       "    .dataframe tbody tr th:only-of-type {\n",
       "        vertical-align: middle;\n",
       "    }\n",
       "\n",
       "    .dataframe tbody tr th {\n",
       "        vertical-align: top;\n",
       "    }\n",
       "\n",
       "    .dataframe thead th {\n",
       "        text-align: right;\n",
       "    }\n",
       "</style>\n",
       "<table border=\"1\" class=\"dataframe\">\n",
       "  <thead>\n",
       "    <tr style=\"text-align: right;\">\n",
       "      <th></th>\n",
       "      <th>CreditScore</th>\n",
       "      <th>Geography</th>\n",
       "      <th>Gender</th>\n",
       "      <th>Age</th>\n",
       "      <th>Tenure</th>\n",
       "      <th>Balance</th>\n",
       "      <th>NumOfProducts</th>\n",
       "      <th>HasCrCard</th>\n",
       "      <th>IsActiveMember</th>\n",
       "      <th>EstimatedSalary</th>\n",
       "      <th>Exited</th>\n",
       "    </tr>\n",
       "  </thead>\n",
       "  <tbody>\n",
       "    <tr>\n",
       "      <th>0</th>\n",
       "      <td>619</td>\n",
       "      <td>France</td>\n",
       "      <td>Female</td>\n",
       "      <td>42</td>\n",
       "      <td>2</td>\n",
       "      <td>0.00</td>\n",
       "      <td>1</td>\n",
       "      <td>1</td>\n",
       "      <td>1</td>\n",
       "      <td>101348.88</td>\n",
       "      <td>1</td>\n",
       "    </tr>\n",
       "    <tr>\n",
       "      <th>1</th>\n",
       "      <td>608</td>\n",
       "      <td>Spain</td>\n",
       "      <td>Female</td>\n",
       "      <td>41</td>\n",
       "      <td>1</td>\n",
       "      <td>83807.86</td>\n",
       "      <td>1</td>\n",
       "      <td>0</td>\n",
       "      <td>1</td>\n",
       "      <td>112542.58</td>\n",
       "      <td>0</td>\n",
       "    </tr>\n",
       "    <tr>\n",
       "      <th>2</th>\n",
       "      <td>502</td>\n",
       "      <td>France</td>\n",
       "      <td>Female</td>\n",
       "      <td>42</td>\n",
       "      <td>8</td>\n",
       "      <td>159660.80</td>\n",
       "      <td>3</td>\n",
       "      <td>1</td>\n",
       "      <td>0</td>\n",
       "      <td>113931.57</td>\n",
       "      <td>1</td>\n",
       "    </tr>\n",
       "    <tr>\n",
       "      <th>3</th>\n",
       "      <td>699</td>\n",
       "      <td>France</td>\n",
       "      <td>Female</td>\n",
       "      <td>39</td>\n",
       "      <td>1</td>\n",
       "      <td>0.00</td>\n",
       "      <td>2</td>\n",
       "      <td>0</td>\n",
       "      <td>0</td>\n",
       "      <td>93826.63</td>\n",
       "      <td>0</td>\n",
       "    </tr>\n",
       "    <tr>\n",
       "      <th>4</th>\n",
       "      <td>850</td>\n",
       "      <td>Spain</td>\n",
       "      <td>Female</td>\n",
       "      <td>43</td>\n",
       "      <td>2</td>\n",
       "      <td>125510.82</td>\n",
       "      <td>1</td>\n",
       "      <td>1</td>\n",
       "      <td>1</td>\n",
       "      <td>79084.10</td>\n",
       "      <td>0</td>\n",
       "    </tr>\n",
       "  </tbody>\n",
       "</table>\n",
       "</div>"
      ],
      "text/plain": [
       "   CreditScore Geography  Gender  Age  Tenure    Balance  NumOfProducts  \\\n",
       "0          619    France  Female   42       2       0.00              1   \n",
       "1          608     Spain  Female   41       1   83807.86              1   \n",
       "2          502    France  Female   42       8  159660.80              3   \n",
       "3          699    France  Female   39       1       0.00              2   \n",
       "4          850     Spain  Female   43       2  125510.82              1   \n",
       "\n",
       "   HasCrCard  IsActiveMember  EstimatedSalary  Exited  \n",
       "0          1               1        101348.88       1  \n",
       "1          0               1        112542.58       0  \n",
       "2          1               0        113931.57       1  \n",
       "3          0               0         93826.63       0  \n",
       "4          1               1         79084.10       0  "
      ]
     },
     "execution_count": 6,
     "metadata": {},
     "output_type": "execute_result"
    }
   ],
   "source": [
    "df.head()"
   ]
  },
  {
   "cell_type": "code",
   "execution_count": 7,
   "metadata": {},
   "outputs": [],
   "source": [
    "def GenderBinary(value):\n",
    "    if value == 'Female':\n",
    "        return 0\n",
    "    else:\n",
    "        return 1\n",
    "    "
   ]
  },
  {
   "cell_type": "code",
   "execution_count": 8,
   "metadata": {},
   "outputs": [],
   "source": [
    "df['Gender'] = df['Gender'].apply(lambda x : GenderBinary(x))"
   ]
  },
  {
   "cell_type": "code",
   "execution_count": 9,
   "metadata": {},
   "outputs": [
    {
     "data": {
      "text/html": [
       "<div>\n",
       "<style scoped>\n",
       "    .dataframe tbody tr th:only-of-type {\n",
       "        vertical-align: middle;\n",
       "    }\n",
       "\n",
       "    .dataframe tbody tr th {\n",
       "        vertical-align: top;\n",
       "    }\n",
       "\n",
       "    .dataframe thead th {\n",
       "        text-align: right;\n",
       "    }\n",
       "</style>\n",
       "<table border=\"1\" class=\"dataframe\">\n",
       "  <thead>\n",
       "    <tr style=\"text-align: right;\">\n",
       "      <th></th>\n",
       "      <th>CreditScore</th>\n",
       "      <th>Geography</th>\n",
       "      <th>Gender</th>\n",
       "      <th>Age</th>\n",
       "      <th>Tenure</th>\n",
       "      <th>Balance</th>\n",
       "      <th>NumOfProducts</th>\n",
       "      <th>HasCrCard</th>\n",
       "      <th>IsActiveMember</th>\n",
       "      <th>EstimatedSalary</th>\n",
       "      <th>Exited</th>\n",
       "    </tr>\n",
       "  </thead>\n",
       "  <tbody>\n",
       "    <tr>\n",
       "      <th>0</th>\n",
       "      <td>619</td>\n",
       "      <td>France</td>\n",
       "      <td>0</td>\n",
       "      <td>42</td>\n",
       "      <td>2</td>\n",
       "      <td>0.00</td>\n",
       "      <td>1</td>\n",
       "      <td>1</td>\n",
       "      <td>1</td>\n",
       "      <td>101348.88</td>\n",
       "      <td>1</td>\n",
       "    </tr>\n",
       "    <tr>\n",
       "      <th>1</th>\n",
       "      <td>608</td>\n",
       "      <td>Spain</td>\n",
       "      <td>0</td>\n",
       "      <td>41</td>\n",
       "      <td>1</td>\n",
       "      <td>83807.86</td>\n",
       "      <td>1</td>\n",
       "      <td>0</td>\n",
       "      <td>1</td>\n",
       "      <td>112542.58</td>\n",
       "      <td>0</td>\n",
       "    </tr>\n",
       "    <tr>\n",
       "      <th>2</th>\n",
       "      <td>502</td>\n",
       "      <td>France</td>\n",
       "      <td>0</td>\n",
       "      <td>42</td>\n",
       "      <td>8</td>\n",
       "      <td>159660.80</td>\n",
       "      <td>3</td>\n",
       "      <td>1</td>\n",
       "      <td>0</td>\n",
       "      <td>113931.57</td>\n",
       "      <td>1</td>\n",
       "    </tr>\n",
       "    <tr>\n",
       "      <th>3</th>\n",
       "      <td>699</td>\n",
       "      <td>France</td>\n",
       "      <td>0</td>\n",
       "      <td>39</td>\n",
       "      <td>1</td>\n",
       "      <td>0.00</td>\n",
       "      <td>2</td>\n",
       "      <td>0</td>\n",
       "      <td>0</td>\n",
       "      <td>93826.63</td>\n",
       "      <td>0</td>\n",
       "    </tr>\n",
       "    <tr>\n",
       "      <th>4</th>\n",
       "      <td>850</td>\n",
       "      <td>Spain</td>\n",
       "      <td>0</td>\n",
       "      <td>43</td>\n",
       "      <td>2</td>\n",
       "      <td>125510.82</td>\n",
       "      <td>1</td>\n",
       "      <td>1</td>\n",
       "      <td>1</td>\n",
       "      <td>79084.10</td>\n",
       "      <td>0</td>\n",
       "    </tr>\n",
       "  </tbody>\n",
       "</table>\n",
       "</div>"
      ],
      "text/plain": [
       "   CreditScore Geography  Gender  Age  Tenure    Balance  NumOfProducts  \\\n",
       "0          619    France       0   42       2       0.00              1   \n",
       "1          608     Spain       0   41       1   83807.86              1   \n",
       "2          502    France       0   42       8  159660.80              3   \n",
       "3          699    France       0   39       1       0.00              2   \n",
       "4          850     Spain       0   43       2  125510.82              1   \n",
       "\n",
       "   HasCrCard  IsActiveMember  EstimatedSalary  Exited  \n",
       "0          1               1        101348.88       1  \n",
       "1          0               1        112542.58       0  \n",
       "2          1               0        113931.57       1  \n",
       "3          0               0         93826.63       0  \n",
       "4          1               1         79084.10       0  "
      ]
     },
     "execution_count": 9,
     "metadata": {},
     "output_type": "execute_result"
    }
   ],
   "source": [
    "df.head(5)"
   ]
  },
  {
   "cell_type": "code",
   "execution_count": 10,
   "metadata": {},
   "outputs": [],
   "source": [
    "dum = pd.get_dummies(df['Geography'])"
   ]
  },
  {
   "cell_type": "code",
   "execution_count": 11,
   "metadata": {},
   "outputs": [
    {
     "data": {
      "text/html": [
       "<div>\n",
       "<style scoped>\n",
       "    .dataframe tbody tr th:only-of-type {\n",
       "        vertical-align: middle;\n",
       "    }\n",
       "\n",
       "    .dataframe tbody tr th {\n",
       "        vertical-align: top;\n",
       "    }\n",
       "\n",
       "    .dataframe thead th {\n",
       "        text-align: right;\n",
       "    }\n",
       "</style>\n",
       "<table border=\"1\" class=\"dataframe\">\n",
       "  <thead>\n",
       "    <tr style=\"text-align: right;\">\n",
       "      <th></th>\n",
       "      <th>France</th>\n",
       "      <th>Germany</th>\n",
       "      <th>Spain</th>\n",
       "    </tr>\n",
       "  </thead>\n",
       "  <tbody>\n",
       "    <tr>\n",
       "      <th>0</th>\n",
       "      <td>1</td>\n",
       "      <td>0</td>\n",
       "      <td>0</td>\n",
       "    </tr>\n",
       "    <tr>\n",
       "      <th>1</th>\n",
       "      <td>0</td>\n",
       "      <td>0</td>\n",
       "      <td>1</td>\n",
       "    </tr>\n",
       "    <tr>\n",
       "      <th>2</th>\n",
       "      <td>1</td>\n",
       "      <td>0</td>\n",
       "      <td>0</td>\n",
       "    </tr>\n",
       "    <tr>\n",
       "      <th>3</th>\n",
       "      <td>1</td>\n",
       "      <td>0</td>\n",
       "      <td>0</td>\n",
       "    </tr>\n",
       "    <tr>\n",
       "      <th>4</th>\n",
       "      <td>0</td>\n",
       "      <td>0</td>\n",
       "      <td>1</td>\n",
       "    </tr>\n",
       "  </tbody>\n",
       "</table>\n",
       "</div>"
      ],
      "text/plain": [
       "   France  Germany  Spain\n",
       "0       1        0      0\n",
       "1       0        0      1\n",
       "2       1        0      0\n",
       "3       1        0      0\n",
       "4       0        0      1"
      ]
     },
     "execution_count": 11,
     "metadata": {},
     "output_type": "execute_result"
    }
   ],
   "source": [
    "dum.head()"
   ]
  },
  {
   "cell_type": "code",
   "execution_count": 12,
   "metadata": {},
   "outputs": [],
   "source": [
    "df['France'] = dum['France']\n",
    "df['Germany'] = dum['Germany']\n",
    "df['Spain'] = dum['Spain']"
   ]
  },
  {
   "cell_type": "code",
   "execution_count": 13,
   "metadata": {},
   "outputs": [],
   "source": [
    "df.drop('Geography',axis=1,inplace=True)"
   ]
  },
  {
   "cell_type": "code",
   "execution_count": 14,
   "metadata": {},
   "outputs": [
    {
     "data": {
      "text/html": [
       "<div>\n",
       "<style scoped>\n",
       "    .dataframe tbody tr th:only-of-type {\n",
       "        vertical-align: middle;\n",
       "    }\n",
       "\n",
       "    .dataframe tbody tr th {\n",
       "        vertical-align: top;\n",
       "    }\n",
       "\n",
       "    .dataframe thead th {\n",
       "        text-align: right;\n",
       "    }\n",
       "</style>\n",
       "<table border=\"1\" class=\"dataframe\">\n",
       "  <thead>\n",
       "    <tr style=\"text-align: right;\">\n",
       "      <th></th>\n",
       "      <th>CreditScore</th>\n",
       "      <th>Gender</th>\n",
       "      <th>Age</th>\n",
       "      <th>Tenure</th>\n",
       "      <th>Balance</th>\n",
       "      <th>NumOfProducts</th>\n",
       "      <th>HasCrCard</th>\n",
       "      <th>IsActiveMember</th>\n",
       "      <th>EstimatedSalary</th>\n",
       "      <th>Exited</th>\n",
       "      <th>France</th>\n",
       "      <th>Germany</th>\n",
       "      <th>Spain</th>\n",
       "    </tr>\n",
       "  </thead>\n",
       "  <tbody>\n",
       "    <tr>\n",
       "      <th>0</th>\n",
       "      <td>619</td>\n",
       "      <td>0</td>\n",
       "      <td>42</td>\n",
       "      <td>2</td>\n",
       "      <td>0.00</td>\n",
       "      <td>1</td>\n",
       "      <td>1</td>\n",
       "      <td>1</td>\n",
       "      <td>101348.88</td>\n",
       "      <td>1</td>\n",
       "      <td>1</td>\n",
       "      <td>0</td>\n",
       "      <td>0</td>\n",
       "    </tr>\n",
       "    <tr>\n",
       "      <th>1</th>\n",
       "      <td>608</td>\n",
       "      <td>0</td>\n",
       "      <td>41</td>\n",
       "      <td>1</td>\n",
       "      <td>83807.86</td>\n",
       "      <td>1</td>\n",
       "      <td>0</td>\n",
       "      <td>1</td>\n",
       "      <td>112542.58</td>\n",
       "      <td>0</td>\n",
       "      <td>0</td>\n",
       "      <td>0</td>\n",
       "      <td>1</td>\n",
       "    </tr>\n",
       "    <tr>\n",
       "      <th>2</th>\n",
       "      <td>502</td>\n",
       "      <td>0</td>\n",
       "      <td>42</td>\n",
       "      <td>8</td>\n",
       "      <td>159660.80</td>\n",
       "      <td>3</td>\n",
       "      <td>1</td>\n",
       "      <td>0</td>\n",
       "      <td>113931.57</td>\n",
       "      <td>1</td>\n",
       "      <td>1</td>\n",
       "      <td>0</td>\n",
       "      <td>0</td>\n",
       "    </tr>\n",
       "    <tr>\n",
       "      <th>3</th>\n",
       "      <td>699</td>\n",
       "      <td>0</td>\n",
       "      <td>39</td>\n",
       "      <td>1</td>\n",
       "      <td>0.00</td>\n",
       "      <td>2</td>\n",
       "      <td>0</td>\n",
       "      <td>0</td>\n",
       "      <td>93826.63</td>\n",
       "      <td>0</td>\n",
       "      <td>1</td>\n",
       "      <td>0</td>\n",
       "      <td>0</td>\n",
       "    </tr>\n",
       "    <tr>\n",
       "      <th>4</th>\n",
       "      <td>850</td>\n",
       "      <td>0</td>\n",
       "      <td>43</td>\n",
       "      <td>2</td>\n",
       "      <td>125510.82</td>\n",
       "      <td>1</td>\n",
       "      <td>1</td>\n",
       "      <td>1</td>\n",
       "      <td>79084.10</td>\n",
       "      <td>0</td>\n",
       "      <td>0</td>\n",
       "      <td>0</td>\n",
       "      <td>1</td>\n",
       "    </tr>\n",
       "  </tbody>\n",
       "</table>\n",
       "</div>"
      ],
      "text/plain": [
       "   CreditScore  Gender  Age  Tenure    Balance  NumOfProducts  HasCrCard  \\\n",
       "0          619       0   42       2       0.00              1          1   \n",
       "1          608       0   41       1   83807.86              1          0   \n",
       "2          502       0   42       8  159660.80              3          1   \n",
       "3          699       0   39       1       0.00              2          0   \n",
       "4          850       0   43       2  125510.82              1          1   \n",
       "\n",
       "   IsActiveMember  EstimatedSalary  Exited  France  Germany  Spain  \n",
       "0               1        101348.88       1       1        0      0  \n",
       "1               1        112542.58       0       0        0      1  \n",
       "2               0        113931.57       1       1        0      0  \n",
       "3               0         93826.63       0       1        0      0  \n",
       "4               1         79084.10       0       0        0      1  "
      ]
     },
     "execution_count": 14,
     "metadata": {},
     "output_type": "execute_result"
    }
   ],
   "source": [
    "df.head()"
   ]
  },
  {
   "cell_type": "code",
   "execution_count": 15,
   "metadata": {},
   "outputs": [],
   "source": [
    "from sklearn.model_selection import train_test_split"
   ]
  },
  {
   "cell_type": "code",
   "execution_count": 16,
   "metadata": {},
   "outputs": [],
   "source": [
    "X = df.drop('Exited',axis=1)\n",
    "y= df['Exited']"
   ]
  },
  {
   "cell_type": "code",
   "execution_count": 17,
   "metadata": {},
   "outputs": [],
   "source": [
    "X_train, X_test, y_train, y_test = train_test_split(X, y, test_size=0.2, random_state=0)"
   ]
  },
  {
   "cell_type": "markdown",
   "metadata": {},
   "source": [
    "### Freature Scaling"
   ]
  },
  {
   "cell_type": "code",
   "execution_count": 18,
   "metadata": {},
   "outputs": [],
   "source": [
    "from sklearn.preprocessing import StandardScaler"
   ]
  },
  {
   "cell_type": "code",
   "execution_count": 19,
   "metadata": {},
   "outputs": [],
   "source": [
    "sc = StandardScaler()"
   ]
  },
  {
   "cell_type": "code",
   "execution_count": 20,
   "metadata": {},
   "outputs": [],
   "source": [
    "X_train = sc.fit_transform(X_train)"
   ]
  },
  {
   "cell_type": "code",
   "execution_count": 21,
   "metadata": {},
   "outputs": [],
   "source": [
    "X_test = sc.transform(X_test)"
   ]
  },
  {
   "cell_type": "markdown",
   "metadata": {},
   "source": [
    "### Neural Net"
   ]
  },
  {
   "cell_type": "code",
   "execution_count": 22,
   "metadata": {},
   "outputs": [
    {
     "name": "stderr",
     "output_type": "stream",
     "text": [
      "/home/pranav/anaconda2/lib/python2.7/site-packages/h5py/__init__.py:36: FutureWarning: Conversion of the second argument of issubdtype from `float` to `np.floating` is deprecated. In future, it will be treated as `np.float64 == np.dtype(float).type`.\n",
      "  from ._conv import register_converters as _register_converters\n",
      "Using TensorFlow backend.\n"
     ]
    }
   ],
   "source": [
    "import keras"
   ]
  },
  {
   "cell_type": "code",
   "execution_count": 37,
   "metadata": {},
   "outputs": [],
   "source": [
    "from keras.models import Sequential"
   ]
  },
  {
   "cell_type": "code",
   "execution_count": 38,
   "metadata": {},
   "outputs": [],
   "source": [
    "from keras.layers import Dense"
   ]
  },
  {
   "cell_type": "code",
   "execution_count": 39,
   "metadata": {},
   "outputs": [],
   "source": [
    "classifier = Sequential()"
   ]
  },
  {
   "cell_type": "code",
   "execution_count": 40,
   "metadata": {},
   "outputs": [],
   "source": [
    "classifier.add(Dense(units=6,activation='relu',kernel_initializer='uniform',input_dim=12))"
   ]
  },
  {
   "cell_type": "code",
   "execution_count": 41,
   "metadata": {},
   "outputs": [],
   "source": [
    "classifier.add(Dense(units=6,activation='relu',kernel_initializer='uniform'))"
   ]
  },
  {
   "cell_type": "code",
   "execution_count": 42,
   "metadata": {},
   "outputs": [],
   "source": [
    "classifier.add(Dense(units=1,activation='sigmoid',kernel_initializer='uniform'))"
   ]
  },
  {
   "cell_type": "code",
   "execution_count": 43,
   "metadata": {},
   "outputs": [],
   "source": [
    "classifier.compile(optimizer='adam',loss='binary_crossentropy',metrics=['accuracy'])"
   ]
  },
  {
   "cell_type": "code",
   "execution_count": 44,
   "metadata": {},
   "outputs": [
    {
     "name": "stdout",
     "output_type": "stream",
     "text": [
      "Epoch 1/100\n",
      "8000/8000 [==============================] - 3s 410us/step - loss: 0.4790 - acc: 0.7960\n",
      "Epoch 2/100\n",
      "8000/8000 [==============================] - 2s 270us/step - loss: 0.4296 - acc: 0.7960\n",
      "Epoch 3/100\n",
      "8000/8000 [==============================] - 2s 261us/step - loss: 0.4251 - acc: 0.7964\n",
      "Epoch 4/100\n",
      "8000/8000 [==============================] - 2s 262us/step - loss: 0.4207 - acc: 0.8175\n",
      "Epoch 5/100\n",
      "8000/8000 [==============================] - 2s 260us/step - loss: 0.4174 - acc: 0.8260\n",
      "Epoch 6/100\n",
      "8000/8000 [==============================] - 2s 275us/step - loss: 0.4155 - acc: 0.8289\n",
      "Epoch 7/100\n",
      "8000/8000 [==============================] - 2s 257us/step - loss: 0.4130 - acc: 0.8292\n",
      "Epoch 8/100\n",
      "8000/8000 [==============================] - 2s 259us/step - loss: 0.4118 - acc: 0.8332\n",
      "Epoch 9/100\n",
      "8000/8000 [==============================] - 2s 263us/step - loss: 0.4109 - acc: 0.8344\n",
      "Epoch 10/100\n",
      "8000/8000 [==============================] - 2s 265us/step - loss: 0.4096 - acc: 0.8339\n",
      "Epoch 11/100\n",
      "8000/8000 [==============================] - 2s 281us/step - loss: 0.4083 - acc: 0.8350\n",
      "Epoch 12/100\n",
      "8000/8000 [==============================] - 2s 264us/step - loss: 0.4076 - acc: 0.8332\n",
      "Epoch 13/100\n",
      "8000/8000 [==============================] - 2s 261us/step - loss: 0.4067 - acc: 0.8332\n",
      "Epoch 14/100\n",
      "8000/8000 [==============================] - 2s 274us/step - loss: 0.4058 - acc: 0.8347\n",
      "Epoch 15/100\n",
      "8000/8000 [==============================] - 2s 261us/step - loss: 0.4058 - acc: 0.8339\n",
      "Epoch 16/100\n",
      "8000/8000 [==============================] - 2s 262us/step - loss: 0.4051 - acc: 0.8342\n",
      "Epoch 17/100\n",
      "8000/8000 [==============================] - 2s 262us/step - loss: 0.4053 - acc: 0.8351\n",
      "Epoch 18/100\n",
      "8000/8000 [==============================] - 2s 255us/step - loss: 0.4043 - acc: 0.8355\n",
      "Epoch 19/100\n",
      "8000/8000 [==============================] - 2s 258us/step - loss: 0.4038 - acc: 0.8345\n",
      "Epoch 20/100\n",
      "8000/8000 [==============================] - 2s 257us/step - loss: 0.4040 - acc: 0.8362\n",
      "Epoch 21/100\n",
      "8000/8000 [==============================] - 2s 259us/step - loss: 0.4034 - acc: 0.8360\n",
      "Epoch 22/100\n",
      "8000/8000 [==============================] - 2s 259us/step - loss: 0.4027 - acc: 0.8355\n",
      "Epoch 23/100\n",
      "8000/8000 [==============================] - 2s 258us/step - loss: 0.4027 - acc: 0.8344\n",
      "Epoch 24/100\n",
      "8000/8000 [==============================] - 2s 257us/step - loss: 0.4027 - acc: 0.8345\n",
      "Epoch 25/100\n",
      "8000/8000 [==============================] - 2s 257us/step - loss: 0.4025 - acc: 0.8347\n",
      "Epoch 26/100\n",
      "8000/8000 [==============================] - 2s 262us/step - loss: 0.4022 - acc: 0.8347\n",
      "Epoch 27/100\n",
      "8000/8000 [==============================] - 2s 258us/step - loss: 0.4018 - acc: 0.8356\n",
      "Epoch 28/100\n",
      "8000/8000 [==============================] - 2s 256us/step - loss: 0.4008 - acc: 0.8345\n",
      "Epoch 29/100\n",
      "8000/8000 [==============================] - 2s 259us/step - loss: 0.4010 - acc: 0.8354\n",
      "Epoch 30/100\n",
      "8000/8000 [==============================] - 2s 252us/step - loss: 0.4009 - acc: 0.8347\n",
      "Epoch 31/100\n",
      "8000/8000 [==============================] - 2s 249us/step - loss: 0.3998 - acc: 0.8342\n",
      "Epoch 32/100\n",
      "8000/8000 [==============================] - 2s 252us/step - loss: 0.4000 - acc: 0.8335\n",
      "Epoch 33/100\n",
      "8000/8000 [==============================] - 2s 254us/step - loss: 0.3996 - acc: 0.8345\n",
      "Epoch 34/100\n",
      "8000/8000 [==============================] - 2s 256us/step - loss: 0.3993 - acc: 0.8355\n",
      "Epoch 35/100\n",
      "8000/8000 [==============================] - 2s 249us/step - loss: 0.3992 - acc: 0.8360\n",
      "Epoch 36/100\n",
      "8000/8000 [==============================] - 2s 255us/step - loss: 0.3984 - acc: 0.8372\n",
      "Epoch 37/100\n",
      "8000/8000 [==============================] - 2s 257us/step - loss: 0.3984 - acc: 0.8357\n",
      "Epoch 38/100\n",
      "8000/8000 [==============================] - 2s 256us/step - loss: 0.3984 - acc: 0.8354\n",
      "Epoch 39/100\n",
      "8000/8000 [==============================] - 2s 252us/step - loss: 0.3979 - acc: 0.8366\n",
      "Epoch 40/100\n",
      "8000/8000 [==============================] - 2s 255us/step - loss: 0.3982 - acc: 0.8372\n",
      "Epoch 41/100\n",
      "8000/8000 [==============================] - 2s 251us/step - loss: 0.3976 - acc: 0.8380\n",
      "Epoch 42/100\n",
      "8000/8000 [==============================] - 2s 252us/step - loss: 0.3978 - acc: 0.8371\n",
      "Epoch 43/100\n",
      "8000/8000 [==============================] - 2s 253us/step - loss: 0.3977 - acc: 0.8355\n",
      "Epoch 44/100\n",
      "8000/8000 [==============================] - 2s 273us/step - loss: 0.3972 - acc: 0.8366\n",
      "Epoch 45/100\n",
      "8000/8000 [==============================] - 2s 267us/step - loss: 0.3973 - acc: 0.8369\n",
      "Epoch 46/100\n",
      "8000/8000 [==============================] - 2s 251us/step - loss: 0.3977 - acc: 0.8372\n",
      "Epoch 47/100\n",
      "8000/8000 [==============================] - 2s 252us/step - loss: 0.3966 - acc: 0.8359\n",
      "Epoch 48/100\n",
      "8000/8000 [==============================] - 2s 251us/step - loss: 0.3973 - acc: 0.8365\n",
      "Epoch 49/100\n",
      "8000/8000 [==============================] - 2s 254us/step - loss: 0.3974 - acc: 0.8359\n",
      "Epoch 50/100\n",
      "8000/8000 [==============================] - 2s 252us/step - loss: 0.3977 - acc: 0.8345\n",
      "Epoch 51/100\n",
      "8000/8000 [==============================] - 2s 248us/step - loss: 0.3966 - acc: 0.8366\n",
      "Epoch 52/100\n",
      "8000/8000 [==============================] - 2s 258us/step - loss: 0.3972 - acc: 0.8366\n",
      "Epoch 53/100\n",
      "8000/8000 [==============================] - 2s 273us/step - loss: 0.3967 - acc: 0.8361\n",
      "Epoch 54/100\n",
      "8000/8000 [==============================] - 3s 331us/step - loss: 0.3969 - acc: 0.8361\n",
      "Epoch 55/100\n",
      "8000/8000 [==============================] - 3s 350us/step - loss: 0.3971 - acc: 0.8355\n",
      "Epoch 56/100\n",
      "8000/8000 [==============================] - 2s 303us/step - loss: 0.3971 - acc: 0.8372\n",
      "Epoch 57/100\n",
      "8000/8000 [==============================] - 2s 279us/step - loss: 0.3970 - acc: 0.8351\n",
      "Epoch 58/100\n",
      "8000/8000 [==============================] - 2s 269us/step - loss: 0.3968 - acc: 0.8347\n",
      "Epoch 59/100\n",
      "8000/8000 [==============================] - 2s 296us/step - loss: 0.3963 - acc: 0.8380\n",
      "Epoch 60/100\n",
      "8000/8000 [==============================] - 2s 298us/step - loss: 0.3972 - acc: 0.8360\n",
      "Epoch 61/100\n",
      "8000/8000 [==============================] - 2s 282us/step - loss: 0.3967 - acc: 0.8346\n",
      "Epoch 62/100\n",
      "8000/8000 [==============================] - 2s 278us/step - loss: 0.3957 - acc: 0.8372\n",
      "Epoch 63/100\n",
      "8000/8000 [==============================] - 2s 307us/step - loss: 0.3968 - acc: 0.8370\n",
      "Epoch 64/100\n",
      "8000/8000 [==============================] - 2s 276us/step - loss: 0.3965 - acc: 0.8379\n",
      "Epoch 65/100\n",
      "8000/8000 [==============================] - 2s 274us/step - loss: 0.3964 - acc: 0.8377\n",
      "Epoch 66/100\n",
      "8000/8000 [==============================] - 2s 299us/step - loss: 0.3966 - acc: 0.8350\n",
      "Epoch 67/100\n",
      "8000/8000 [==============================] - 3s 350us/step - loss: 0.3960 - acc: 0.8350\n",
      "Epoch 68/100\n",
      "8000/8000 [==============================] - 4s 480us/step - loss: 0.3961 - acc: 0.8365\n",
      "Epoch 69/100\n",
      "8000/8000 [==============================] - 3s 397us/step - loss: 0.3956 - acc: 0.8384\n",
      "Epoch 70/100\n",
      "8000/8000 [==============================] - 3s 328us/step - loss: 0.3967 - acc: 0.8379\n",
      "Epoch 71/100\n",
      "8000/8000 [==============================] - 2s 296us/step - loss: 0.3961 - acc: 0.8372\n",
      "Epoch 72/100\n",
      "8000/8000 [==============================] - 2s 279us/step - loss: 0.3962 - acc: 0.8374\n",
      "Epoch 73/100\n",
      "8000/8000 [==============================] - 2s 297us/step - loss: 0.3957 - acc: 0.8352\n",
      "Epoch 74/100\n",
      "8000/8000 [==============================] - 3s 322us/step - loss: 0.3958 - acc: 0.8369\n",
      "Epoch 75/100\n",
      "8000/8000 [==============================] - 2s 277us/step - loss: 0.3963 - acc: 0.8354\n",
      "Epoch 76/100\n",
      "8000/8000 [==============================] - 2s 287us/step - loss: 0.3960 - acc: 0.8377\n",
      "Epoch 77/100\n",
      "8000/8000 [==============================] - 3s 320us/step - loss: 0.3959 - acc: 0.8357\n",
      "Epoch 78/100\n",
      "8000/8000 [==============================] - 4s 442us/step - loss: 0.3959 - acc: 0.8359\n",
      "Epoch 79/100\n",
      "8000/8000 [==============================] - 4s 438us/step - loss: 0.3956 - acc: 0.8367\n",
      "Epoch 80/100\n",
      "8000/8000 [==============================] - 3s 371us/step - loss: 0.3960 - acc: 0.8380\n",
      "Epoch 81/100\n",
      "8000/8000 [==============================] - 3s 320us/step - loss: 0.3959 - acc: 0.8370\n",
      "Epoch 82/100\n"
     ]
    },
    {
     "name": "stdout",
     "output_type": "stream",
     "text": [
      "8000/8000 [==============================] - 2s 274us/step - loss: 0.3957 - acc: 0.8366\n",
      "Epoch 83/100\n",
      "8000/8000 [==============================] - 2s 262us/step - loss: 0.3951 - acc: 0.8362\n",
      "Epoch 84/100\n",
      "8000/8000 [==============================] - 2s 253us/step - loss: 0.3954 - acc: 0.8375\n",
      "Epoch 85/100\n",
      "8000/8000 [==============================] - 2s 254us/step - loss: 0.3956 - acc: 0.8375\n",
      "Epoch 86/100\n",
      "8000/8000 [==============================] - 2s 255us/step - loss: 0.3958 - acc: 0.8367\n",
      "Epoch 87/100\n",
      "8000/8000 [==============================] - 2s 255us/step - loss: 0.3955 - acc: 0.8342\n",
      "Epoch 88/100\n",
      "8000/8000 [==============================] - 2s 262us/step - loss: 0.3957 - acc: 0.8362\n",
      "Epoch 89/100\n",
      "8000/8000 [==============================] - 2s 255us/step - loss: 0.3953 - acc: 0.8355\n",
      "Epoch 90/100\n",
      "8000/8000 [==============================] - 2s 265us/step - loss: 0.3953 - acc: 0.8365\n",
      "Epoch 91/100\n",
      "8000/8000 [==============================] - 2s 258us/step - loss: 0.3958 - acc: 0.8361\n",
      "Epoch 92/100\n",
      "8000/8000 [==============================] - 2s 254us/step - loss: 0.3952 - acc: 0.8367\n",
      "Epoch 93/100\n",
      "8000/8000 [==============================] - 2s 252us/step - loss: 0.3958 - acc: 0.8366\n",
      "Epoch 94/100\n",
      "8000/8000 [==============================] - 2s 256us/step - loss: 0.3954 - acc: 0.8375\n",
      "Epoch 95/100\n",
      "8000/8000 [==============================] - 2s 254us/step - loss: 0.3953 - acc: 0.8364\n",
      "Epoch 96/100\n",
      "8000/8000 [==============================] - 2s 255us/step - loss: 0.3952 - acc: 0.8362\n",
      "Epoch 97/100\n",
      "8000/8000 [==============================] - 2s 255us/step - loss: 0.3951 - acc: 0.8380\n",
      "Epoch 98/100\n",
      "8000/8000 [==============================] - 2s 251us/step - loss: 0.3951 - acc: 0.8371\n",
      "Epoch 99/100\n",
      "8000/8000 [==============================] - 2s 254us/step - loss: 0.3951 - acc: 0.8386\n",
      "Epoch 100/100\n",
      "8000/8000 [==============================] - 2s 250us/step - loss: 0.3954 - acc: 0.8374\n"
     ]
    },
    {
     "data": {
      "text/plain": [
       "<keras.callbacks.History at 0x7f7e06f6a6d0>"
      ]
     },
     "execution_count": 44,
     "metadata": {},
     "output_type": "execute_result"
    }
   ],
   "source": [
    "classifier.fit(X_train,y_train,batch_size=10,epochs=100)"
   ]
  },
  {
   "cell_type": "code",
   "execution_count": 45,
   "metadata": {},
   "outputs": [],
   "source": [
    "y_pred = classifier.predict(X_test)"
   ]
  },
  {
   "cell_type": "code",
   "execution_count": 49,
   "metadata": {},
   "outputs": [
    {
     "data": {
      "text/plain": [
       "array([[0.20687462],\n",
       "       [0.32612312],\n",
       "       [0.17490837],\n",
       "       [0.05272338],\n",
       "       [0.1798795 ],\n",
       "       [0.8518091 ],\n",
       "       [0.14916268],\n",
       "       [0.0806643 ],\n",
       "       [0.15614995],\n",
       "       [0.87071496]], dtype=float32)"
      ]
     },
     "execution_count": 49,
     "metadata": {},
     "output_type": "execute_result"
    }
   ],
   "source": [
    "y_pred[:10]"
   ]
  },
  {
   "cell_type": "code",
   "execution_count": 50,
   "metadata": {},
   "outputs": [],
   "source": [
    "y_pred = (y_pred>0.5)"
   ]
  },
  {
   "cell_type": "code",
   "execution_count": 51,
   "metadata": {},
   "outputs": [
    {
     "data": {
      "text/plain": [
       "array([[False],\n",
       "       [False],\n",
       "       [False],\n",
       "       [False],\n",
       "       [False],\n",
       "       [ True],\n",
       "       [False],\n",
       "       [False],\n",
       "       [False],\n",
       "       [ True]])"
      ]
     },
     "execution_count": 51,
     "metadata": {},
     "output_type": "execute_result"
    }
   ],
   "source": [
    "y_pred[:10]"
   ]
  },
  {
   "cell_type": "code",
   "execution_count": 52,
   "metadata": {},
   "outputs": [],
   "source": [
    "from sklearn.metrics import confusion_matrix"
   ]
  },
  {
   "cell_type": "code",
   "execution_count": 53,
   "metadata": {},
   "outputs": [
    {
     "name": "stdout",
     "output_type": "stream",
     "text": [
      "[[1536   59]\n",
      " [ 246  159]]\n"
     ]
    }
   ],
   "source": [
    "print(confusion_matrix(y_test,y_pred))"
   ]
  },
  {
   "cell_type": "code",
   "execution_count": null,
   "metadata": {},
   "outputs": [],
   "source": []
  }
 ],
 "metadata": {
  "kernelspec": {
   "display_name": "Python [conda env:anaconda2]",
   "language": "python",
   "name": "conda-env-anaconda2-py"
  },
  "language_info": {
   "codemirror_mode": {
    "name": "ipython",
    "version": 2
   },
   "file_extension": ".py",
   "mimetype": "text/x-python",
   "name": "python",
   "nbconvert_exporter": "python",
   "pygments_lexer": "ipython2",
   "version": "2.7.14"
  }
 },
 "nbformat": 4,
 "nbformat_minor": 2
}
